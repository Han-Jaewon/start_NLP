{
 "cells": [
  {
   "cell_type": "code",
   "execution_count": 5,
   "id": "f5d6c43f",
   "metadata": {
    "ExecuteTime": {
     "end_time": "2023-04-02T13:40:47.879270Z",
     "start_time": "2023-04-02T13:40:47.876226Z"
    }
   },
   "outputs": [],
   "source": [
    "import re"
   ]
  },
  {
   "cell_type": "code",
   "execution_count": 50,
   "id": "4f31fb17",
   "metadata": {
    "ExecuteTime": {
     "end_time": "2023-03-26T19:00:23.653927Z",
     "start_time": "2023-03-26T19:00:23.650812Z"
    }
   },
   "outputs": [],
   "source": [
    "A = \"sdskjld aaadskkkk fdfdmmmmmkkf qqqbbbwqmfff\""
   ]
  },
  {
   "cell_type": "code",
   "execution_count": 59,
   "id": "ef3e30c6",
   "metadata": {
    "ExecuteTime": {
     "end_time": "2023-03-26T19:15:42.973237Z",
     "start_time": "2023-03-26T19:15:42.967979Z"
    }
   },
   "outputs": [
    {
     "ename": "SyntaxError",
     "evalue": "unexpected character after line continuation character (4268948381.py, line 1)",
     "output_type": "error",
     "traceback": [
      "\u001b[0;36m  File \u001b[0;32m\"/var/folders/kk/bj47wh1s52915s1gb33by7lr0000gn/T/ipykernel_19036/4268948381.py\"\u001b[0;36m, line \u001b[0;32m1\u001b[0m\n\u001b[0;31m    re.sub(\"(\\D)(?=(\\D{3})\",(\\D).upper())\u001b[0m\n\u001b[0m                                        ^\u001b[0m\n\u001b[0;31mSyntaxError\u001b[0m\u001b[0;31m:\u001b[0m unexpected character after line continuation character\n"
     ]
    }
   ],
   "source": [
    "\"(\\D)(?=(\\D{3})\""
   ]
  },
  {
   "cell_type": "code",
   "execution_count": 78,
   "id": "f605c8c7",
   "metadata": {
    "ExecuteTime": {
     "end_time": "2023-03-26T19:24:26.963523Z",
     "start_time": "2023-03-26T19:24:26.959286Z"
    }
   },
   "outputs": [
    {
     "name": "stdout",
     "output_type": "stream",
     "text": [
      "<re.Match object; span=(0, 0), match=''>\n"
     ]
    }
   ],
   "source": [
    "p = re.compile(\"(?=[\\D{3}\\D])\")\n",
    "m = p.match(A)\n",
    "print(m)"
   ]
  },
  {
   "cell_type": "code",
   "execution_count": null,
   "id": "d5ed5288",
   "metadata": {},
   "outputs": [],
   "source": []
  }
 ],
 "metadata": {
  "kernelspec": {
   "display_name": "Python 3 (ipykernel)",
   "language": "python",
   "name": "python3"
  },
  "language_info": {
   "codemirror_mode": {
    "name": "ipython",
    "version": 3
   },
   "file_extension": ".py",
   "mimetype": "text/x-python",
   "name": "python",
   "nbconvert_exporter": "python",
   "pygments_lexer": "ipython3",
   "version": "3.9.7"
  },
  "toc": {
   "base_numbering": 1,
   "nav_menu": {},
   "number_sections": true,
   "sideBar": true,
   "skip_h1_title": false,
   "title_cell": "Table of Contents",
   "title_sidebar": "Contents",
   "toc_cell": false,
   "toc_position": {},
   "toc_section_display": true,
   "toc_window_display": false
  }
 },
 "nbformat": 4,
 "nbformat_minor": 5
}
