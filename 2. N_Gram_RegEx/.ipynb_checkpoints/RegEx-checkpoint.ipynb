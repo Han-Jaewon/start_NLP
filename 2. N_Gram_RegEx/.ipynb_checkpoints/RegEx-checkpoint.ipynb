{
 "cells": [
  {
   "cell_type": "code",
   "execution_count": 2,
   "id": "f5d6c43f",
   "metadata": {
    "ExecuteTime": {
     "end_time": "2023-04-02T14:36:45.327812Z",
     "start_time": "2023-04-02T14:36:45.324501Z"
    }
   },
   "outputs": [],
   "source": [
    "import re"
   ]
  },
  {
   "cell_type": "code",
   "execution_count": 3,
   "id": "4f31fb17",
   "metadata": {
    "ExecuteTime": {
     "end_time": "2023-04-02T14:36:45.827276Z",
     "start_time": "2023-04-02T14:36:45.823759Z"
    }
   },
   "outputs": [],
   "source": [
    "A = \"sdskjld aaadskkkk fdfdmmmmmkkf qqqbbbwqmfff\""
   ]
  },
  {
   "cell_type": "code",
   "execution_count": 8,
   "id": "ef3e30c6",
   "metadata": {
    "ExecuteTime": {
     "end_time": "2023-04-02T14:52:19.151055Z",
     "start_time": "2023-04-02T14:52:19.143968Z"
    }
   },
   "outputs": [
    {
     "data": {
      "text/plain": [
       "'sdskjld aaadskkkk fdfdmmmmmkkf qqqbbbwqmfff'"
      ]
     },
     "execution_count": 8,
     "metadata": {},
     "output_type": "execute_result"
    }
   ],
   "source": [
    "p = re.compile(\"(.)(\\D){3,}\")\n",
    "m = p.match(A)\n",
    "m.group()"
   ]
  },
  {
   "cell_type": "code",
   "execution_count": null,
   "id": "d5ed5288",
   "metadata": {},
   "outputs": [],
   "source": []
  }
 ],
 "metadata": {
  "kernelspec": {
   "display_name": "Python 3 (ipykernel)",
   "language": "python",
   "name": "python3"
  },
  "language_info": {
   "codemirror_mode": {
    "name": "ipython",
    "version": 3
   },
   "file_extension": ".py",
   "mimetype": "text/x-python",
   "name": "python",
   "nbconvert_exporter": "python",
   "pygments_lexer": "ipython3",
   "version": "3.9.7"
  },
  "toc": {
   "base_numbering": 1,
   "nav_menu": {},
   "number_sections": true,
   "sideBar": true,
   "skip_h1_title": false,
   "title_cell": "Table of Contents",
   "title_sidebar": "Contents",
   "toc_cell": false,
   "toc_position": {},
   "toc_section_display": true,
   "toc_window_display": false
  }
 },
 "nbformat": 4,
 "nbformat_minor": 5
}
