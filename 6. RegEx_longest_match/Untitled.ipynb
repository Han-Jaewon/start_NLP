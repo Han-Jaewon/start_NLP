{
 "cells": [
  {
   "cell_type": "code",
   "execution_count": 5,
   "id": "7953807c",
   "metadata": {
    "ExecuteTime": {
     "end_time": "2023-04-23T15:40:27.612505Z",
     "start_time": "2023-04-23T15:40:27.607652Z"
    }
   },
   "outputs": [],
   "source": [
    "#longest match\n",
    " \n",
    "dictionary = {\"ab\":\"xxx\", \"cde\":\"yyy\", \"rr\":\"QQ\", \"cdefgh\":\"zzz\", \"z\":\"X\"}\n",
    "src = \"qqq abcde rrr abcdefghz\""
   ]
  },
  {
   "cell_type": "code",
   "execution_count": 7,
   "id": "44755304",
   "metadata": {
    "ExecuteTime": {
     "end_time": "2023-04-23T15:40:55.853749Z",
     "start_time": "2023-04-23T15:40:55.845902Z"
    }
   },
   "outputs": [
    {
     "name": "stdout",
     "output_type": "stream",
     "text": [
      "the dog chased the fish\n"
     ]
    }
   ],
   "source": [
    "import re\n",
    "\n",
    "dictionary1 = {'cat': 'dog', 'dog': 'cat', 'bird': 'fish'}\n",
    "src1 = 'the cat chased the bird'\n",
    "\n",
    "# 정규표현식 패턴을 생성합니다.\n",
    "pattern = '|'.join(re.escape(key) for key in dictionary1.keys())\n",
    "\n",
    "# longest matching 알고리즘을 사용하여 문자열을 교체합니다.\n",
    "new_src1 = re.sub(pattern, lambda match: dictionary1[match.group(0)], src1, flags=re.IGNORECASE)\n",
    "\n",
    "print(new_src1)"
   ]
  },
  {
   "cell_type": "code",
   "execution_count": 8,
   "id": "3206b29f",
   "metadata": {
    "ExecuteTime": {
     "end_time": "2023-04-23T15:40:58.042350Z",
     "start_time": "2023-04-23T15:40:58.035416Z"
    }
   },
   "outputs": [
    {
     "name": "stdout",
     "output_type": "stream",
     "text": [
      "qqq xxxyyy QQr xxxyyyfghX\n"
     ]
    }
   ],
   "source": [
    "import re\n",
    "\n",
    "dictionary = {'ab': 'xxx', 'cde': 'yyy', 'rr': 'QQ', 'cdefgh': 'zzz', 'z': 'X'}\n",
    "src = 'qqq abcde rrr abcdefghz'\n",
    "\n",
    "pattern = '|'.join(re.escape(key) for key in dictionary.keys())  # 정규표현식 패턴\n",
    "\n",
    "new_src = re.sub(pattern, lambda match: dictionary[match.group(0)], src)\n",
    "\n",
    "print(new_src)"
   ]
  },
  {
   "cell_type": "code",
   "execution_count": null,
   "id": "f8fc77e9",
   "metadata": {},
   "outputs": [],
   "source": []
  }
 ],
 "metadata": {
  "kernelspec": {
   "display_name": "Python 3 (ipykernel)",
   "language": "python",
   "name": "python3"
  },
  "language_info": {
   "codemirror_mode": {
    "name": "ipython",
    "version": 3
   },
   "file_extension": ".py",
   "mimetype": "text/x-python",
   "name": "python",
   "nbconvert_exporter": "python",
   "pygments_lexer": "ipython3",
   "version": "3.9.7"
  },
  "toc": {
   "base_numbering": 1,
   "nav_menu": {},
   "number_sections": true,
   "sideBar": true,
   "skip_h1_title": false,
   "title_cell": "Table of Contents",
   "title_sidebar": "Contents",
   "toc_cell": false,
   "toc_position": {},
   "toc_section_display": true,
   "toc_window_display": false
  }
 },
 "nbformat": 4,
 "nbformat_minor": 5
}
