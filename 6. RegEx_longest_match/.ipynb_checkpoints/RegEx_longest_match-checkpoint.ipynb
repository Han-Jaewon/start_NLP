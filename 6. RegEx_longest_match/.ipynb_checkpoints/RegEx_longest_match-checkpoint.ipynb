{
 "cells": [
  {
   "cell_type": "code",
   "execution_count": 1,
   "id": "33898f0e",
   "metadata": {
    "ExecuteTime": {
     "end_time": "2023-05-01T05:12:49.508261Z",
     "start_time": "2023-05-01T05:12:49.503174Z"
    }
   },
   "outputs": [],
   "source": [
    "import re"
   ]
  },
  {
   "cell_type": "code",
   "execution_count": 2,
   "id": "7953807c",
   "metadata": {
    "ExecuteTime": {
     "end_time": "2023-05-01T05:12:50.236289Z",
     "start_time": "2023-05-01T05:12:50.231720Z"
    }
   },
   "outputs": [],
   "source": [
    "#longest match\n",
    " \n",
    "dictionary = {\"ab\":\"xxx\", \"cde\":\"yyy\", \"rr\":\"QQ\", \"cdefgh\":\"zzz\", \"z\":\"X\"}\n",
    "src = \"qqq abcde rrr abcdefghz\""
   ]
  },
  {
   "cell_type": "code",
   "execution_count": 5,
   "id": "b88d7c24",
   "metadata": {
    "ExecuteTime": {
     "end_time": "2023-05-01T05:13:52.389571Z",
     "start_time": "2023-05-01T05:13:52.377779Z"
    }
   },
   "outputs": [
    {
     "data": {
      "text/plain": [
       "'qqq xxxyyy QQr xxxzzzX'"
      ]
     },
     "execution_count": 5,
     "metadata": {},
     "output_type": "execute_result"
    }
   ],
   "source": [
    "max_len = len(max(dictionary, key=len)) # cdefgh가 max이므로 max_len = 6\n",
    "i = 0\n",
    "\n",
    "while i < len(src):\n",
    "    for j in range(max_len+i, i, -1):\n",
    "        word = src[i:j]\n",
    "        if word in dictionary:\n",
    "            src = src[:i] + dictionary[word] + src[j:]\n",
    "            i += len(dictionary[word])\n",
    "            break\n",
    "    else:\n",
    "        i += 1\n",
    "        \n",
    "src"
   ]
  }
 ],
 "metadata": {
  "kernelspec": {
   "display_name": "Python 3 (ipykernel)",
   "language": "python",
   "name": "python3"
  },
  "language_info": {
   "codemirror_mode": {
    "name": "ipython",
    "version": 3
   },
   "file_extension": ".py",
   "mimetype": "text/x-python",
   "name": "python",
   "nbconvert_exporter": "python",
   "pygments_lexer": "ipython3",
   "version": "3.9.7"
  },
  "toc": {
   "base_numbering": 1,
   "nav_menu": {},
   "number_sections": true,
   "sideBar": true,
   "skip_h1_title": false,
   "title_cell": "Table of Contents",
   "title_sidebar": "Contents",
   "toc_cell": false,
   "toc_position": {},
   "toc_section_display": true,
   "toc_window_display": false
  }
 },
 "nbformat": 4,
 "nbformat_minor": 5
}
