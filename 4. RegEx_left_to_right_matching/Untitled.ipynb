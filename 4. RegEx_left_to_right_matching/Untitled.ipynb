{
 "cells": [
  {
   "cell_type": "code",
   "execution_count": null,
   "id": "0d77bb6a",
   "metadata": {},
   "outputs": [],
   "source": [
    "import re"
   ]
  },
  {
   "cell_type": "code",
   "execution_count": null,
   "id": "5fee445f",
   "metadata": {},
   "outputs": [],
   "source": [
    "pl = {\"aaa\": \"AA\", \"bbb\": \"BBBBB\"}\n",
    "txt = \"sdskjld aaadskkkk fdfdf qqqbbbwqmf\""
   ]
  },
  {
   "cell_type": "code",
   "execution_count": null,
   "id": "dcec65c0",
   "metadata": {},
   "outputs": [],
   "source": [
    "k = 0  # Offset\n",
    "out = txt\n",
    "\n",
    "\n",
    "for m in re.finditer(\"(.)\\\\1{2,}\", txt):\n",
    "    i, j = m.start(), m.end()  # i: 문자의 시작, j: 문자의 끝\n",
    "    a = m.group()\n",
    "    b = a[0].upper()\n",
    "    \n",
    "    out = out[:i+k]+b+out[j+k:]\n",
    "    k += len(b)-len(a)\n",
    "out"
   ]
  }
 ],
 "metadata": {
  "kernelspec": {
   "display_name": "Python 3 (ipykernel)",
   "language": "python",
   "name": "python3"
  },
  "language_info": {
   "codemirror_mode": {
    "name": "ipython",
    "version": 3
   },
   "file_extension": ".py",
   "mimetype": "text/x-python",
   "name": "python",
   "nbconvert_exporter": "python",
   "pygments_lexer": "ipython3",
   "version": "3.9.7"
  },
  "toc": {
   "base_numbering": 1,
   "nav_menu": {},
   "number_sections": true,
   "sideBar": true,
   "skip_h1_title": false,
   "title_cell": "Table of Contents",
   "title_sidebar": "Contents",
   "toc_cell": false,
   "toc_position": {},
   "toc_section_display": true,
   "toc_window_display": false
  }
 },
 "nbformat": 4,
 "nbformat_minor": 5
}
