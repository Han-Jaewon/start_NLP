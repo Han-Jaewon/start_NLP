{
 "cells": [
  {
   "cell_type": "code",
   "execution_count": 1,
   "id": "9ac72829",
   "metadata": {
    "ExecuteTime": {
     "end_time": "2023-04-02T14:57:46.847920Z",
     "start_time": "2023-04-02T14:57:46.845000Z"
    }
   },
   "outputs": [],
   "source": [
    "import re"
   ]
  },
  {
   "cell_type": "code",
   "execution_count": 2,
   "id": "309d7b8f",
   "metadata": {
    "ExecuteTime": {
     "end_time": "2023-04-02T14:57:46.852564Z",
     "start_time": "2023-04-02T14:57:46.849751Z"
    }
   },
   "outputs": [],
   "source": [
    "txt = \"sdskjld aaadskkkk fdfdmmmmmkkf qqqbbbwqmfff\""
   ]
  },
  {
   "cell_type": "code",
   "execution_count": 3,
   "id": "fc6e29f0",
   "metadata": {
    "ExecuteTime": {
     "end_time": "2023-04-02T14:57:46.859766Z",
     "start_time": "2023-04-02T14:57:46.855360Z"
    }
   },
   "outputs": [],
   "source": [
    "k = 0  # Offset\n",
    "out = txt\n",
    "\n",
    "\n",
    "for m in re.finditer(\"(.)\\\\1{2,}\", txt):\n",
    "    i, j = m.start(), m.end()  # i: 문자의 시작, j: 문자의 끝\n",
    "    a = m.group()\n",
    "    b = a[0].upper()\n",
    "    \n",
    "    out = out[:i+k]+b+out[j+k:]\n",
    "    k += len(b)-len(a)"
   ]
  },
  {
   "cell_type": "code",
   "execution_count": 4,
   "id": "f4b3297a",
   "metadata": {
    "ExecuteTime": {
     "end_time": "2023-04-02T14:57:46.869260Z",
     "start_time": "2023-04-02T14:57:46.861075Z"
    }
   },
   "outputs": [
    {
     "data": {
      "text/plain": [
       "'sdskjld AdsK fdfdMkkf QBwqmF'"
      ]
     },
     "execution_count": 4,
     "metadata": {},
     "output_type": "execute_result"
    }
   ],
   "source": [
    "out"
   ]
  }
 ],
 "metadata": {
  "kernelspec": {
   "display_name": "Python 3 (ipykernel)",
   "language": "python",
   "name": "python3"
  },
  "language_info": {
   "codemirror_mode": {
    "name": "ipython",
    "version": 3
   },
   "file_extension": ".py",
   "mimetype": "text/x-python",
   "name": "python",
   "nbconvert_exporter": "python",
   "pygments_lexer": "ipython3",
   "version": "3.9.7"
  },
  "toc": {
   "base_numbering": 1,
   "nav_menu": {},
   "number_sections": true,
   "sideBar": true,
   "skip_h1_title": false,
   "title_cell": "Table of Contents",
   "title_sidebar": "Contents",
   "toc_cell": false,
   "toc_position": {},
   "toc_section_display": true,
   "toc_window_display": false
  }
 },
 "nbformat": 4,
 "nbformat_minor": 5
}
