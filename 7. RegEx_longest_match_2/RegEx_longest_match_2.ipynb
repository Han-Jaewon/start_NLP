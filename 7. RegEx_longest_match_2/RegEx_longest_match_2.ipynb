{
 "cells": [
  {
   "cell_type": "code",
   "execution_count": 2,
   "id": "1aeef2eb",
   "metadata": {
    "ExecuteTime": {
     "end_time": "2023-05-01T05:20:19.633110Z",
     "start_time": "2023-05-01T05:20:19.629971Z"
    }
   },
   "outputs": [],
   "source": [
    "import re"
   ]
  },
  {
   "cell_type": "code",
   "execution_count": 3,
   "id": "a3e9fef3",
   "metadata": {
    "ExecuteTime": {
     "end_time": "2023-05-01T05:20:20.627033Z",
     "start_time": "2023-05-01T05:20:20.623306Z"
    }
   },
   "outputs": [],
   "source": [
    "pl = {\"ab\":\"xxx\", \"cde\":\"yyy\", \"rr\":\"QQ\", \"cdefgh\":\"zzz\", \"z\":\"X\"}\n",
    "src = \"qqq abcde rrr abcdefghz\""
   ]
  },
  {
   "cell_type": "code",
   "execution_count": 4,
   "id": "d92c8e27",
   "metadata": {
    "ExecuteTime": {
     "end_time": "2023-05-01T05:41:40.187777Z",
     "start_time": "2023-05-01T05:41:40.171872Z"
    }
   },
   "outputs": [
    {
     "data": {
      "text/plain": [
       "23"
      ]
     },
     "execution_count": 4,
     "metadata": {},
     "output_type": "execute_result"
    }
   ],
   "source": [
    "len(src)"
   ]
  },
  {
   "cell_type": "code",
   "execution_count": 9,
   "id": "a2244a67",
   "metadata": {
    "ExecuteTime": {
     "end_time": "2023-05-01T05:48:27.222685Z",
     "start_time": "2023-05-01T05:48:27.211518Z"
    }
   },
   "outputs": [],
   "source": [
    "max_len = len(max(pl, key=len))\n",
    "station = [0] * len(src)\n",
    "\n",
    "for j in range(max_len, 0, -1):\n",
    "    for i in range(0, len(src)-j+1):\n",
    "        word = src[i:i+j]\n",
    "        \n",
    "        if word in pl:\n",
    "            if station[i:i+j] != [0] * len(word):\n",
    "                continue\n",
    "                \n",
    "            src = src[:i] + pl[word] + src[i+j:]\n",
    "            station = station[:i] + [1] * len(pl[word]) + station[i+j:]\n",
    "            \n",
    "            i += len(pl[word])\n",
    "            \n",
    "        else:\n",
    "            i += 1"
   ]
  },
  {
   "cell_type": "code",
   "execution_count": 10,
   "id": "19b6eaf0",
   "metadata": {
    "ExecuteTime": {
     "end_time": "2023-05-01T05:48:48.013497Z",
     "start_time": "2023-05-01T05:48:48.008731Z"
    }
   },
   "outputs": [
    {
     "data": {
      "text/plain": [
       "'qqq xxxyyy QQr xxxzzzX'"
      ]
     },
     "execution_count": 10,
     "metadata": {},
     "output_type": "execute_result"
    }
   ],
   "source": [
    "src"
   ]
  }
 ],
 "metadata": {
  "kernelspec": {
   "display_name": "Python 3 (ipykernel)",
   "language": "python",
   "name": "python3"
  },
  "language_info": {
   "codemirror_mode": {
    "name": "ipython",
    "version": 3
   },
   "file_extension": ".py",
   "mimetype": "text/x-python",
   "name": "python",
   "nbconvert_exporter": "python",
   "pygments_lexer": "ipython3",
   "version": "3.9.7"
  },
  "toc": {
   "base_numbering": 1,
   "nav_menu": {},
   "number_sections": true,
   "sideBar": true,
   "skip_h1_title": false,
   "title_cell": "Table of Contents",
   "title_sidebar": "Contents",
   "toc_cell": false,
   "toc_position": {},
   "toc_section_display": true,
   "toc_window_display": false
  }
 },
 "nbformat": 4,
 "nbformat_minor": 5
}
