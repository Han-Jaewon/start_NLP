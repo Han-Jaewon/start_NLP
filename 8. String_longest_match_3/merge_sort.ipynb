{
 "cells": [
  {
   "cell_type": "markdown",
   "id": "51b49ae4",
   "metadata": {
    "ExecuteTime": {
     "end_time": "2023-05-07T17:46:59.746043Z",
     "start_time": "2023-05-07T17:46:59.645769Z"
    }
   },
   "source": [
    "[머지 소트](https://stream-cork-4ab.notion.site/String-Sorting-6496e37d0adb4221b43f9ab90f91e896)"
   ]
  },
  {
   "cell_type": "code",
   "execution_count": 9,
   "id": "d1668ec1",
   "metadata": {
    "ExecuteTime": {
     "end_time": "2023-05-07T19:38:55.452112Z",
     "start_time": "2023-05-07T19:38:55.448123Z"
    }
   },
   "outputs": [],
   "source": [
    "src = ['qqq', 'abcde', 'rrr', 'abcdefghz', 'dflskdj', 'ffd', 'efijzl', 'xxdieks', 'xyz']"
   ]
  },
  {
   "cell_type": "code",
   "execution_count": 7,
   "id": "c6647060",
   "metadata": {
    "ExecuteTime": {
     "end_time": "2023-05-07T19:37:50.996662Z",
     "start_time": "2023-05-07T19:37:50.977972Z"
    }
   },
   "outputs": [
    {
     "name": "stdout",
     "output_type": "stream",
     "text": [
      "[2, 6, 8, 2, 3, 9, 1, 4, 9]\n",
      "[1, 2, 2, 3, 4, 6, 8, 9, 9]\n"
     ]
    }
   ],
   "source": [
    "def test_recur_divide(list):\n",
    "    \n",
    "    # 1. 리스트의 길이를 저장\n",
    "    list_length = len(list)\n",
    "\n",
    "    # 2. 리스트의 길이가 1이 될때까지, 즉 분할할 수 없을 때까지 아래 로직을 반복 수행\n",
    "    if list_length == 1:\n",
    "        return list\n",
    "\n",
    "    # 3. 리스트의 중간 지점을 식별하고 리스트를 left_partition과 right_partition으로 분할\n",
    "    mid_point = list_length // 2\n",
    "\n",
    "    # 4. 모든 파티션이 분할할 수 없는 작은 구성 요소로 분할되도록 하려면,\n",
    "    # 아래처럼 test_recur_divide 함수가 재귀적으로 호출됩니다.\n",
    "    # test_recur_divide 함수 안에 매개변수는 두가지로 나뉘어서 전달됩니다.\n",
    "\n",
    "    # left_partition은 리스트의 0번째 인덱스부터 중간지점 인덱스까지의 값을 전달받고,\n",
    "    # right_partition은 리스트의 (중간지점+1)번째 인덱스부터 마지막지점 인덱스까지의 값을 전달받습니다.\n",
    "    left_partition = test_recur_divide(list[:mid_point])\n",
    "    right_partition = test_recur_divide(list[mid_point:])\n",
    "\n",
    "    # 5. test_recur_divide 함수는 정렬된 왼쪽과 오른쪽 파티션으로 구성된 리스트를 반환합니다.\n",
    "    return test_sort_combine(left_partition, right_partition)\n",
    "\n",
    "\n",
    "# 6. 두 개의 리스트를 받아 두 리스트 내의 요소로 정렬된 리스트를 반환합니다.\n",
    "def test_sort_combine(left, right):\n",
    "    # 7. 정렬된 결과값으로 채워질 비어있는 리스트변수 output을 초기화합니다.\n",
    "    # 리스트를 반복할 때 사용되는 두 개의 변수 i와 j를 초기화합니다.\n",
    "    output = []\n",
    "    i = j = 0\n",
    "\n",
    "    # 8. 두 변수 i와 j가 왼쪽과 오른쪽 리스트의 길이보다 작으면 while 루프를 실행합니다.\n",
    "    while i < len(left) and j < len(right):\n",
    "        # 9. 각 반복 동안 두 리스트의 모든 위치에 있는 요소를 비교합니다.\n",
    "        if left[i] < right[j]:\n",
    "            # 오름차순으로 정렬하기위해 output변수에는 더 작은 값으로 채워집니다.\n",
    "            output.append(left[i])\n",
    "            # 10. 변수 i값을 +1 함으로써 오른쪽으로 한칸 이동시킵니다.\n",
    "            i += 1\n",
    "        else:\n",
    "            output.append(right[j])\n",
    "            j += 1\n",
    "    # 11. 남아있는 리스트 요소에서 현재 i, j 값을 기준으로 각각 리스트의 마지막지점 인덱스까지 값을 넣고 결과값을 반환합니다.\n",
    "    output.extend(left[i:])\n",
    "    output.extend(right[j:])\n",
    "\n",
    "    return output\n",
    "\n",
    "\n",
    "def test_result():\n",
    "    unsorted_list = [2, 6, 8, 2, 3, 9, 1, 4, 9]\n",
    "    print(unsorted_list)\n",
    "    sorted_list = test_recur_divide(unsorted_list)\n",
    "    print(sorted_list)\n",
    "\n",
    "test_result()"
   ]
  },
  {
   "cell_type": "code",
   "execution_count": 12,
   "id": "5cdd8177",
   "metadata": {
    "ExecuteTime": {
     "end_time": "2023-05-07T19:40:34.234652Z",
     "start_time": "2023-05-07T19:40:34.228553Z"
    }
   },
   "outputs": [
    {
     "data": {
      "text/plain": [
       "['abcde',\n",
       " 'abcdefghz',\n",
       " 'dflskdj',\n",
       " 'efijzl',\n",
       " 'ffd',\n",
       " 'qqq',\n",
       " 'rrr',\n",
       " 'xxdieks',\n",
       " 'xyz']"
      ]
     },
     "execution_count": 12,
     "metadata": {},
     "output_type": "execute_result"
    }
   ],
   "source": [
    "test_recur_divide(src)"
   ]
  },
  {
   "cell_type": "code",
   "execution_count": null,
   "id": "8f575e12",
   "metadata": {},
   "outputs": [],
   "source": []
  }
 ],
 "metadata": {
  "kernelspec": {
   "display_name": "Python 3 (ipykernel)",
   "language": "python",
   "name": "python3"
  },
  "language_info": {
   "codemirror_mode": {
    "name": "ipython",
    "version": 3
   },
   "file_extension": ".py",
   "mimetype": "text/x-python",
   "name": "python",
   "nbconvert_exporter": "python",
   "pygments_lexer": "ipython3",
   "version": "3.9.7"
  },
  "toc": {
   "base_numbering": 1,
   "nav_menu": {},
   "number_sections": true,
   "sideBar": true,
   "skip_h1_title": false,
   "title_cell": "Table of Contents",
   "title_sidebar": "Contents",
   "toc_cell": false,
   "toc_position": {},
   "toc_section_display": true,
   "toc_window_display": false
  }
 },
 "nbformat": 4,
 "nbformat_minor": 5
}
