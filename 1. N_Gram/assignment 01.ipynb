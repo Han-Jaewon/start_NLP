{
 "cells": [
  {
   "cell_type": "code",
   "execution_count": 9,
   "id": "7bfbc5c1",
   "metadata": {
    "ExecuteTime": {
     "end_time": "2023-03-26T16:16:45.811436Z",
     "start_time": "2023-03-26T16:16:45.808151Z"
    }
   },
   "outputs": [],
   "source": [
    "import re"
   ]
  },
  {
   "cell_type": "code",
   "execution_count": 14,
   "id": "c4c3bfc2",
   "metadata": {
    "ExecuteTime": {
     "end_time": "2023-03-26T16:19:58.694299Z",
     "start_time": "2023-03-26T16:19:58.685543Z"
    }
   },
   "outputs": [
    {
     "data": {
      "text/plain": [
       "\"Biden, who met with Andersson and Finnish President Sauli Niinsto in the Oval Office before making public remarks, did not reference any specific security measures the United States would provide the two countries before their membership is finalized. The application period is seen as a particularly vulnerable one, because the two countries are defying years of Russian threats against joining NATO but don't yet fall under the alliance's security umbrella.\""
      ]
     },
     "execution_count": 14,
     "metadata": {},
     "output_type": "execute_result"
    }
   ],
   "source": [
    "file = open('assignment 01.txt', 'r')\n",
    "txt = file.read()\n",
    "txt = txt[7:-1]\n",
    "txt"
   ]
  },
  {
   "cell_type": "code",
   "execution_count": 42,
   "id": "61ae0f3e",
   "metadata": {
    "ExecuteTime": {
     "end_time": "2023-03-19T17:07:03.655700Z",
     "start_time": "2023-03-19T17:07:03.648854Z"
    },
    "scrolled": true
   },
   "outputs": [
    {
     "data": {
      "text/plain": [
       "'Biden who met with Andersson and Finnish President Sauli Niinsto in the Oval Office before making public remarks did not reference any specific security measures the United States would provide the two countries before their membership is finalized The application period is seen as a particularly vulnerable one because the two countries are defying years of Russian threats against joining NATO but dont yet fall under the alliances security umbrella'"
      ]
     },
     "execution_count": 42,
     "metadata": {},
     "output_type": "execute_result"
    }
   ],
   "source": [
    "t = re.sub(r'(?<=\\w)[,.](?=\\s|$)', '', txt)\n",
    "t = re.sub(r\"'\", \"\", t)\n",
    "t"
   ]
  },
  {
   "cell_type": "code",
   "execution_count": 97,
   "id": "2f467402",
   "metadata": {
    "ExecuteTime": {
     "end_time": "2023-03-26T18:06:36.204546Z",
     "start_time": "2023-03-26T18:06:36.192274Z"
    }
   },
   "outputs": [],
   "source": [
    "def myngram(txt, cw, n):\n",
    "    \n",
    "    '''\n",
    "    txt: 문자열\n",
    "    cw: char or word\n",
    "    n: uni, bi, tri ...\n",
    "    '''\n",
    "    \n",
    "    txt = re.sub(r'(?<=\\w)[,.](?=\\s|$)', '', txt)\n",
    "    txt = re.sub(r\"'\", \"\", txt)\n",
    "    words = txt.split()\n",
    "    dic = {}\n",
    "    \n",
    "    if cw == 'char':\n",
    "        for i in range(len(txt)-n+1):\n",
    "            ngram = txt[i:i+n]\n",
    "            ngram = \"\".join(ngram)\n",
    "            if ngram not in dic:\n",
    "                dic[ngram] = 0 \n",
    "            else:\n",
    "                dic[ngram] += 1\n",
    "    elif cw == 'word':\n",
    "        for i in range(len(words)-n+1):\n",
    "            ngram = words[i:i+n]\n",
    "            ngram = \" \".join(ngram)\n",
    "            if ngram not in dic:\n",
    "                dic[ngram] = 0 \n",
    "            else:\n",
    "                dic[ngram] += 1\n",
    "\n",
    "    \n",
    "    result = sorted(dic.items(), key = lambda x: x[1], reverse = True)\n",
    "    \n",
    "    for key, value in result:\n",
    "        print(value, key, sep='\\t')"
   ]
  },
  {
   "cell_type": "code",
   "execution_count": 98,
   "id": "b812508e",
   "metadata": {
    "ExecuteTime": {
     "end_time": "2023-03-26T18:06:36.593912Z",
     "start_time": "2023-03-26T18:06:36.587090Z"
    }
   },
   "outputs": [
    {
     "data": {
      "text/plain": [
       "\"Biden, who met with Andersson and Finnish President Sauli Niinsto in the Oval Office before making public remarks, did not reference any specific security measures the United States would provide the two countries before their membership is finalized. The application period is seen as a particularly vulnerable one, because the two countries are defying years of Russian threats against joining NATO but don't yet fall under the alliance's security umbrella.\""
      ]
     },
     "execution_count": 98,
     "metadata": {},
     "output_type": "execute_result"
    }
   ],
   "source": [
    "text = \"Biden, who met with Andersson and Finnish President Sauli Niinsto in the Oval Office before making public remarks, did not reference any specific security measures the United States would provide the two countries before their membership is finalized. The application period is seen as a particularly vulnerable one, because the two countries are defying years of Russian threats against joining NATO but don't yet fall under the alliance's security umbrella.\"\n",
    "text"
   ]
  },
  {
   "cell_type": "code",
   "execution_count": 99,
   "id": "5a5c6ce0",
   "metadata": {
    "ExecuteTime": {
     "end_time": "2023-03-26T18:06:37.771277Z",
     "start_time": "2023-03-26T18:06:37.762874Z"
    }
   },
   "outputs": [
    {
     "name": "stdout",
     "output_type": "stream",
     "text": [
      "1\tthe two\n",
      "1\ttwo countries\n",
      "0\tBiden who\n",
      "0\twho met\n",
      "0\tmet with\n",
      "0\twith Andersson\n",
      "0\tAndersson and\n",
      "0\tand Finnish\n",
      "0\tFinnish President\n",
      "0\tPresident Sauli\n",
      "0\tSauli Niinsto\n",
      "0\tNiinsto in\n",
      "0\tin the\n",
      "0\tthe Oval\n",
      "0\tOval Office\n",
      "0\tOffice before\n",
      "0\tbefore making\n",
      "0\tmaking public\n",
      "0\tpublic remarks\n",
      "0\tremarks did\n",
      "0\tdid not\n",
      "0\tnot reference\n",
      "0\treference any\n",
      "0\tany specific\n",
      "0\tspecific security\n",
      "0\tsecurity measures\n",
      "0\tmeasures the\n",
      "0\tthe United\n",
      "0\tUnited States\n",
      "0\tStates would\n",
      "0\twould provide\n",
      "0\tprovide the\n",
      "0\tcountries before\n",
      "0\tbefore their\n",
      "0\ttheir membership\n",
      "0\tmembership is\n",
      "0\tis finalized\n",
      "0\tfinalized The\n",
      "0\tThe application\n",
      "0\tapplication period\n",
      "0\tperiod is\n",
      "0\tis seen\n",
      "0\tseen as\n",
      "0\tas a\n",
      "0\ta particularly\n",
      "0\tparticularly vulnerable\n",
      "0\tvulnerable one\n",
      "0\tone because\n",
      "0\tbecause the\n",
      "0\tcountries are\n",
      "0\tare defying\n",
      "0\tdefying years\n",
      "0\tyears of\n",
      "0\tof Russian\n",
      "0\tRussian threats\n",
      "0\tthreats against\n",
      "0\tagainst joining\n",
      "0\tjoining NATO\n",
      "0\tNATO but\n",
      "0\tbut dont\n",
      "0\tdont yet\n",
      "0\tyet fall\n",
      "0\tfall under\n",
      "0\tunder the\n",
      "0\tthe alliances\n",
      "0\talliances security\n",
      "0\tsecurity umbrella\n"
     ]
    }
   ],
   "source": [
    "myngram(txt = text, cw = 'word', n = 2)"
   ]
  },
  {
   "cell_type": "code",
   "execution_count": null,
   "id": "0d71f0e8",
   "metadata": {},
   "outputs": [],
   "source": []
  }
 ],
 "metadata": {
  "kernelspec": {
   "display_name": "Python 3 (ipykernel)",
   "language": "python",
   "name": "python3"
  },
  "language_info": {
   "codemirror_mode": {
    "name": "ipython",
    "version": 3
   },
   "file_extension": ".py",
   "mimetype": "text/x-python",
   "name": "python",
   "nbconvert_exporter": "python",
   "pygments_lexer": "ipython3",
   "version": "3.9.7"
  },
  "toc": {
   "base_numbering": 1,
   "nav_menu": {},
   "number_sections": true,
   "sideBar": true,
   "skip_h1_title": false,
   "title_cell": "Table of Contents",
   "title_sidebar": "Contents",
   "toc_cell": false,
   "toc_position": {},
   "toc_section_display": true,
   "toc_window_display": false
  }
 },
 "nbformat": 4,
 "nbformat_minor": 5
}
